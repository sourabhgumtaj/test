{
 "cells": [
  {
   "cell_type": "code",
   "execution_count": 161,
   "id": "760e96b1",
   "metadata": {},
   "outputs": [],
   "source": [
    "import numpy as np \n",
    "import pandas as pd \n",
    "import seaborn as sns\n",
    "import matplotlib.pyplot as plt\n",
    "%matplotlib inline\n",
    "import warnings\n",
    "warnings.filterwarnings('ignore')\n",
    "\n",
    "\n",
    "data=pd.read_csv(\"C:/Users/saura/Test Athena/Sample_for_BI (1) (1).csv\")\n",
    "data22=pd.read_csv(\"C:/Users/saura/Test Athena/Sample_for_AI (1) (1).csv\")"
   ]
  },
  {
   "cell_type": "code",
   "execution_count": 162,
   "id": "df305ba5",
   "metadata": {},
   "outputs": [
    {
     "name": "stdout",
     "output_type": "stream",
     "text": [
      "<class 'pandas.core.frame.DataFrame'>\n",
      "RangeIndex: 9240 entries, 0 to 9239\n",
      "Data columns (total 15 columns):\n",
      " #   Column                                         Non-Null Count  Dtype  \n",
      "---  ------                                         --------------  -----  \n",
      " 0   ID                                             9240 non-null   int64  \n",
      " 1   Country                                        6775 non-null   object \n",
      " 2   Specialization                                 5861 non-null   object \n",
      " 3   How did you hear about Us                      1991 non-null   object \n",
      " 4   Current_Occupation                             6550 non-null   object \n",
      " 5   What matters most to you in choosing a course  6531 non-null   object \n",
      " 6   Origin                                         9240 non-null   object \n",
      " 7   Source                                         9204 non-null   object \n",
      " 8   Do Not Email                                   9240 non-null   object \n",
      " 9   Do Not Call                                    9240 non-null   object \n",
      " 10  TotalVisits                                    9103 non-null   float64\n",
      " 11  Total Time Spent on Website                    9240 non-null   int64  \n",
      " 12  Page Views Per Visit                           9103 non-null   float64\n",
      " 13  Last Activity                                  9137 non-null   object \n",
      " 14  Purchased                                      9240 non-null   object \n",
      "dtypes: float64(2), int64(2), object(11)\n",
      "memory usage: 1.1+ MB\n"
     ]
    },
    {
     "data": {
      "text/html": [
       "<div>\n",
       "<style scoped>\n",
       "    .dataframe tbody tr th:only-of-type {\n",
       "        vertical-align: middle;\n",
       "    }\n",
       "\n",
       "    .dataframe tbody tr th {\n",
       "        vertical-align: top;\n",
       "    }\n",
       "\n",
       "    .dataframe thead th {\n",
       "        text-align: right;\n",
       "    }\n",
       "</style>\n",
       "<table border=\"1\" class=\"dataframe\">\n",
       "  <thead>\n",
       "    <tr style=\"text-align: right;\">\n",
       "      <th></th>\n",
       "      <th>ID</th>\n",
       "      <th>Country</th>\n",
       "      <th>Specialization</th>\n",
       "      <th>How did you hear about Us</th>\n",
       "      <th>Current_Occupation</th>\n",
       "      <th>What matters most to you in choosing a course</th>\n",
       "      <th>Origin</th>\n",
       "      <th>Source</th>\n",
       "      <th>Do Not Email</th>\n",
       "      <th>Do Not Call</th>\n",
       "      <th>TotalVisits</th>\n",
       "      <th>Total Time Spent on Website</th>\n",
       "      <th>Page Views Per Visit</th>\n",
       "      <th>Last Activity</th>\n",
       "      <th>Purchased</th>\n",
       "    </tr>\n",
       "  </thead>\n",
       "  <tbody>\n",
       "    <tr>\n",
       "      <th>0</th>\n",
       "      <td>1</td>\n",
       "      <td>Russia</td>\n",
       "      <td>Business Administration</td>\n",
       "      <td>Word Of Mouth</td>\n",
       "      <td>Unemployed</td>\n",
       "      <td>Better Career Prospects</td>\n",
       "      <td>API</td>\n",
       "      <td>Olark Chat</td>\n",
       "      <td>No</td>\n",
       "      <td>No</td>\n",
       "      <td>0.0</td>\n",
       "      <td>0</td>\n",
       "      <td>0.0</td>\n",
       "      <td>Page Visited on Website</td>\n",
       "      <td>No</td>\n",
       "    </tr>\n",
       "    <tr>\n",
       "      <th>1</th>\n",
       "      <td>2</td>\n",
       "      <td>India</td>\n",
       "      <td>NaN</td>\n",
       "      <td>NaN</td>\n",
       "      <td>Unemployed</td>\n",
       "      <td>Better Career Prospects</td>\n",
       "      <td>API</td>\n",
       "      <td>Organic Search</td>\n",
       "      <td>No</td>\n",
       "      <td>No</td>\n",
       "      <td>5.0</td>\n",
       "      <td>674</td>\n",
       "      <td>2.5</td>\n",
       "      <td>Email Opened</td>\n",
       "      <td>No</td>\n",
       "    </tr>\n",
       "    <tr>\n",
       "      <th>2</th>\n",
       "      <td>3</td>\n",
       "      <td>India</td>\n",
       "      <td>Business Administration</td>\n",
       "      <td>NaN</td>\n",
       "      <td>Student</td>\n",
       "      <td>Better Career Prospects</td>\n",
       "      <td>Landing Page Submission</td>\n",
       "      <td>Direct Traffic</td>\n",
       "      <td>No</td>\n",
       "      <td>No</td>\n",
       "      <td>2.0</td>\n",
       "      <td>1532</td>\n",
       "      <td>2.0</td>\n",
       "      <td>Email Opened</td>\n",
       "      <td>Yes</td>\n",
       "    </tr>\n",
       "    <tr>\n",
       "      <th>3</th>\n",
       "      <td>4</td>\n",
       "      <td>India</td>\n",
       "      <td>Media and Advertising</td>\n",
       "      <td>Word Of Mouth</td>\n",
       "      <td>Unemployed</td>\n",
       "      <td>Better Career Prospects</td>\n",
       "      <td>Landing Page Submission</td>\n",
       "      <td>Direct Traffic</td>\n",
       "      <td>No</td>\n",
       "      <td>No</td>\n",
       "      <td>1.0</td>\n",
       "      <td>305</td>\n",
       "      <td>1.0</td>\n",
       "      <td>Unreachable</td>\n",
       "      <td>No</td>\n",
       "    </tr>\n",
       "    <tr>\n",
       "      <th>4</th>\n",
       "      <td>5</td>\n",
       "      <td>India</td>\n",
       "      <td>NaN</td>\n",
       "      <td>Other</td>\n",
       "      <td>Unemployed</td>\n",
       "      <td>Better Career Prospects</td>\n",
       "      <td>Landing Page Submission</td>\n",
       "      <td>Google</td>\n",
       "      <td>No</td>\n",
       "      <td>No</td>\n",
       "      <td>2.0</td>\n",
       "      <td>1428</td>\n",
       "      <td>1.0</td>\n",
       "      <td>Converted to Lead</td>\n",
       "      <td>Yes</td>\n",
       "    </tr>\n",
       "  </tbody>\n",
       "</table>\n",
       "</div>"
      ],
      "text/plain": [
       "   ID Country           Specialization How did you hear about Us  \\\n",
       "0   1  Russia  Business Administration             Word Of Mouth   \n",
       "1   2   India                      NaN                       NaN   \n",
       "2   3   India  Business Administration                       NaN   \n",
       "3   4   India    Media and Advertising             Word Of Mouth   \n",
       "4   5   India                      NaN                     Other   \n",
       "\n",
       "  Current_Occupation What matters most to you in choosing a course  \\\n",
       "0         Unemployed                       Better Career Prospects   \n",
       "1         Unemployed                       Better Career Prospects   \n",
       "2            Student                       Better Career Prospects   \n",
       "3         Unemployed                       Better Career Prospects   \n",
       "4         Unemployed                       Better Career Prospects   \n",
       "\n",
       "                    Origin          Source Do Not Email Do Not Call  \\\n",
       "0                      API      Olark Chat           No          No   \n",
       "1                      API  Organic Search           No          No   \n",
       "2  Landing Page Submission  Direct Traffic           No          No   \n",
       "3  Landing Page Submission  Direct Traffic           No          No   \n",
       "4  Landing Page Submission          Google           No          No   \n",
       "\n",
       "   TotalVisits  Total Time Spent on Website  Page Views Per Visit  \\\n",
       "0          0.0                            0                   0.0   \n",
       "1          5.0                          674                   2.5   \n",
       "2          2.0                         1532                   2.0   \n",
       "3          1.0                          305                   1.0   \n",
       "4          2.0                         1428                   1.0   \n",
       "\n",
       "             Last Activity Purchased  \n",
       "0  Page Visited on Website        No  \n",
       "1             Email Opened        No  \n",
       "2             Email Opened       Yes  \n",
       "3              Unreachable        No  \n",
       "4        Converted to Lead       Yes  "
      ]
     },
     "execution_count": 162,
     "metadata": {},
     "output_type": "execute_result"
    }
   ],
   "source": [
    "data1=data.copy()\n",
    "data2=data22.copy()\n",
    "data1.info()\n",
    "data1.head(5)\n"
   ]
  },
  {
   "cell_type": "code",
   "execution_count": null,
   "id": "03944feb",
   "metadata": {},
   "outputs": [],
   "source": []
  },
  {
   "cell_type": "code",
   "execution_count": 71,
   "id": "1c1c68a9",
   "metadata": {},
   "outputs": [
    {
     "data": {
      "text/plain": [
       "ID                                                  0\n",
       "Country                                          2465\n",
       "Specialization                                   3379\n",
       "How did you hear about Us                        7249\n",
       "Current_Occupation                               2690\n",
       "What matters most to you in choosing a course    2709\n",
       "Origin                                              0\n",
       "Source                                             36\n",
       "Do Not Email                                        0\n",
       "Do Not Call                                         0\n",
       "TotalVisits                                       137\n",
       "Total Time Spent on Website                         0\n",
       "Page Views Per Visit                              137\n",
       "Last Activity                                     103\n",
       "Purchased                                           0\n",
       "dtype: int64"
      ]
     },
     "execution_count": 71,
     "metadata": {},
     "output_type": "execute_result"
    }
   ],
   "source": [
    "data1.isnull().sum()"
   ]
  },
  {
   "cell_type": "code",
   "execution_count": 72,
   "id": "97d52a8e",
   "metadata": {},
   "outputs": [
    {
     "data": {
      "text/html": [
       "<div>\n",
       "<style scoped>\n",
       "    .dataframe tbody tr th:only-of-type {\n",
       "        vertical-align: middle;\n",
       "    }\n",
       "\n",
       "    .dataframe tbody tr th {\n",
       "        vertical-align: top;\n",
       "    }\n",
       "\n",
       "    .dataframe thead th {\n",
       "        text-align: right;\n",
       "    }\n",
       "</style>\n",
       "<table border=\"1\" class=\"dataframe\">\n",
       "  <thead>\n",
       "    <tr style=\"text-align: right;\">\n",
       "      <th></th>\n",
       "      <th>ID</th>\n",
       "      <th>Country</th>\n",
       "      <th>Specialization</th>\n",
       "      <th>How did you hear about Us</th>\n",
       "      <th>Current_Occupation</th>\n",
       "      <th>What matters most to you in choosing a course</th>\n",
       "      <th>Origin</th>\n",
       "      <th>Source</th>\n",
       "      <th>Do Not Email</th>\n",
       "      <th>Do Not Call</th>\n",
       "      <th>TotalVisits</th>\n",
       "      <th>Total Time Spent on Website</th>\n",
       "      <th>Page Views Per Visit</th>\n",
       "      <th>Last Activity</th>\n",
       "      <th>Purchased</th>\n",
       "    </tr>\n",
       "  </thead>\n",
       "  <tbody>\n",
       "    <tr>\n",
       "      <th>0</th>\n",
       "      <td>1</td>\n",
       "      <td>Russia</td>\n",
       "      <td>Business Administration</td>\n",
       "      <td>Word Of Mouth</td>\n",
       "      <td>Unemployed</td>\n",
       "      <td>Better Career Prospects</td>\n",
       "      <td>API</td>\n",
       "      <td>Olark Chat</td>\n",
       "      <td>No</td>\n",
       "      <td>No</td>\n",
       "      <td>0.0</td>\n",
       "      <td>0</td>\n",
       "      <td>0.00</td>\n",
       "      <td>Page Visited on Website</td>\n",
       "      <td>No</td>\n",
       "    </tr>\n",
       "    <tr>\n",
       "      <th>1</th>\n",
       "      <td>2</td>\n",
       "      <td>India</td>\n",
       "      <td>NaN</td>\n",
       "      <td>NaN</td>\n",
       "      <td>Unemployed</td>\n",
       "      <td>Better Career Prospects</td>\n",
       "      <td>API</td>\n",
       "      <td>Organic Search</td>\n",
       "      <td>No</td>\n",
       "      <td>No</td>\n",
       "      <td>5.0</td>\n",
       "      <td>674</td>\n",
       "      <td>2.50</td>\n",
       "      <td>Email Opened</td>\n",
       "      <td>No</td>\n",
       "    </tr>\n",
       "    <tr>\n",
       "      <th>2</th>\n",
       "      <td>3</td>\n",
       "      <td>India</td>\n",
       "      <td>Business Administration</td>\n",
       "      <td>NaN</td>\n",
       "      <td>Student</td>\n",
       "      <td>Better Career Prospects</td>\n",
       "      <td>Landing Page Submission</td>\n",
       "      <td>Direct Traffic</td>\n",
       "      <td>No</td>\n",
       "      <td>No</td>\n",
       "      <td>2.0</td>\n",
       "      <td>1532</td>\n",
       "      <td>2.00</td>\n",
       "      <td>Email Opened</td>\n",
       "      <td>Yes</td>\n",
       "    </tr>\n",
       "    <tr>\n",
       "      <th>3</th>\n",
       "      <td>4</td>\n",
       "      <td>India</td>\n",
       "      <td>Media and Advertising</td>\n",
       "      <td>Word Of Mouth</td>\n",
       "      <td>Unemployed</td>\n",
       "      <td>Better Career Prospects</td>\n",
       "      <td>Landing Page Submission</td>\n",
       "      <td>Direct Traffic</td>\n",
       "      <td>No</td>\n",
       "      <td>No</td>\n",
       "      <td>1.0</td>\n",
       "      <td>305</td>\n",
       "      <td>1.00</td>\n",
       "      <td>Unreachable</td>\n",
       "      <td>No</td>\n",
       "    </tr>\n",
       "    <tr>\n",
       "      <th>4</th>\n",
       "      <td>5</td>\n",
       "      <td>India</td>\n",
       "      <td>NaN</td>\n",
       "      <td>Other</td>\n",
       "      <td>Unemployed</td>\n",
       "      <td>Better Career Prospects</td>\n",
       "      <td>Landing Page Submission</td>\n",
       "      <td>Google</td>\n",
       "      <td>No</td>\n",
       "      <td>No</td>\n",
       "      <td>2.0</td>\n",
       "      <td>1428</td>\n",
       "      <td>1.00</td>\n",
       "      <td>Converted to Lead</td>\n",
       "      <td>Yes</td>\n",
       "    </tr>\n",
       "    <tr>\n",
       "      <th>...</th>\n",
       "      <td>...</td>\n",
       "      <td>...</td>\n",
       "      <td>...</td>\n",
       "      <td>...</td>\n",
       "      <td>...</td>\n",
       "      <td>...</td>\n",
       "      <td>...</td>\n",
       "      <td>...</td>\n",
       "      <td>...</td>\n",
       "      <td>...</td>\n",
       "      <td>...</td>\n",
       "      <td>...</td>\n",
       "      <td>...</td>\n",
       "      <td>...</td>\n",
       "      <td>...</td>\n",
       "    </tr>\n",
       "    <tr>\n",
       "      <th>9235</th>\n",
       "      <td>9236</td>\n",
       "      <td>Saudi Arabia</td>\n",
       "      <td>IT Projects Management</td>\n",
       "      <td>NaN</td>\n",
       "      <td>Unemployed</td>\n",
       "      <td>Better Career Prospects</td>\n",
       "      <td>Landing Page Submission</td>\n",
       "      <td>Direct Traffic</td>\n",
       "      <td>Yes</td>\n",
       "      <td>No</td>\n",
       "      <td>8.0</td>\n",
       "      <td>1845</td>\n",
       "      <td>2.67</td>\n",
       "      <td>Email Marked Spam</td>\n",
       "      <td>Yes</td>\n",
       "    </tr>\n",
       "    <tr>\n",
       "      <th>9236</th>\n",
       "      <td>9237</td>\n",
       "      <td>India</td>\n",
       "      <td>Media and Advertising</td>\n",
       "      <td>NaN</td>\n",
       "      <td>Unemployed</td>\n",
       "      <td>Better Career Prospects</td>\n",
       "      <td>Landing Page Submission</td>\n",
       "      <td>Direct Traffic</td>\n",
       "      <td>No</td>\n",
       "      <td>No</td>\n",
       "      <td>2.0</td>\n",
       "      <td>238</td>\n",
       "      <td>2.00</td>\n",
       "      <td>SMS Sent</td>\n",
       "      <td>No</td>\n",
       "    </tr>\n",
       "    <tr>\n",
       "      <th>9237</th>\n",
       "      <td>9238</td>\n",
       "      <td>India</td>\n",
       "      <td>Business Administration</td>\n",
       "      <td>NaN</td>\n",
       "      <td>Unemployed</td>\n",
       "      <td>Better Career Prospects</td>\n",
       "      <td>Landing Page Submission</td>\n",
       "      <td>Direct Traffic</td>\n",
       "      <td>Yes</td>\n",
       "      <td>No</td>\n",
       "      <td>2.0</td>\n",
       "      <td>199</td>\n",
       "      <td>2.00</td>\n",
       "      <td>SMS Sent</td>\n",
       "      <td>No</td>\n",
       "    </tr>\n",
       "    <tr>\n",
       "      <th>9238</th>\n",
       "      <td>9239</td>\n",
       "      <td>India</td>\n",
       "      <td>Human Resource Management</td>\n",
       "      <td>Online Search</td>\n",
       "      <td>NaN</td>\n",
       "      <td>NaN</td>\n",
       "      <td>Landing Page Submission</td>\n",
       "      <td>Google</td>\n",
       "      <td>No</td>\n",
       "      <td>No</td>\n",
       "      <td>3.0</td>\n",
       "      <td>499</td>\n",
       "      <td>3.00</td>\n",
       "      <td>SMS Sent</td>\n",
       "      <td>Yes</td>\n",
       "    </tr>\n",
       "    <tr>\n",
       "      <th>9239</th>\n",
       "      <td>9240</td>\n",
       "      <td>Bangladesh</td>\n",
       "      <td>Supply Chain Management</td>\n",
       "      <td>NaN</td>\n",
       "      <td>Unemployed</td>\n",
       "      <td>Better Career Prospects</td>\n",
       "      <td>Landing Page Submission</td>\n",
       "      <td>Direct Traffic</td>\n",
       "      <td>No</td>\n",
       "      <td>No</td>\n",
       "      <td>6.0</td>\n",
       "      <td>1279</td>\n",
       "      <td>3.00</td>\n",
       "      <td>SMS Sent</td>\n",
       "      <td>Yes</td>\n",
       "    </tr>\n",
       "  </tbody>\n",
       "</table>\n",
       "<p>9103 rows × 15 columns</p>\n",
       "</div>"
      ],
      "text/plain": [
       "        ID       Country             Specialization How did you hear about Us  \\\n",
       "0        1        Russia    Business Administration             Word Of Mouth   \n",
       "1        2         India                        NaN                       NaN   \n",
       "2        3         India    Business Administration                       NaN   \n",
       "3        4         India      Media and Advertising             Word Of Mouth   \n",
       "4        5         India                        NaN                     Other   \n",
       "...    ...           ...                        ...                       ...   \n",
       "9235  9236  Saudi Arabia     IT Projects Management                       NaN   \n",
       "9236  9237         India      Media and Advertising                       NaN   \n",
       "9237  9238         India    Business Administration                       NaN   \n",
       "9238  9239         India  Human Resource Management             Online Search   \n",
       "9239  9240    Bangladesh    Supply Chain Management                       NaN   \n",
       "\n",
       "     Current_Occupation What matters most to you in choosing a course  \\\n",
       "0            Unemployed                       Better Career Prospects   \n",
       "1            Unemployed                       Better Career Prospects   \n",
       "2               Student                       Better Career Prospects   \n",
       "3            Unemployed                       Better Career Prospects   \n",
       "4            Unemployed                       Better Career Prospects   \n",
       "...                 ...                                           ...   \n",
       "9235         Unemployed                       Better Career Prospects   \n",
       "9236         Unemployed                       Better Career Prospects   \n",
       "9237         Unemployed                       Better Career Prospects   \n",
       "9238                NaN                                           NaN   \n",
       "9239         Unemployed                       Better Career Prospects   \n",
       "\n",
       "                       Origin          Source Do Not Email Do Not Call  \\\n",
       "0                         API      Olark Chat           No          No   \n",
       "1                         API  Organic Search           No          No   \n",
       "2     Landing Page Submission  Direct Traffic           No          No   \n",
       "3     Landing Page Submission  Direct Traffic           No          No   \n",
       "4     Landing Page Submission          Google           No          No   \n",
       "...                       ...             ...          ...         ...   \n",
       "9235  Landing Page Submission  Direct Traffic          Yes          No   \n",
       "9236  Landing Page Submission  Direct Traffic           No          No   \n",
       "9237  Landing Page Submission  Direct Traffic          Yes          No   \n",
       "9238  Landing Page Submission          Google           No          No   \n",
       "9239  Landing Page Submission  Direct Traffic           No          No   \n",
       "\n",
       "      TotalVisits  Total Time Spent on Website  Page Views Per Visit  \\\n",
       "0             0.0                            0                  0.00   \n",
       "1             5.0                          674                  2.50   \n",
       "2             2.0                         1532                  2.00   \n",
       "3             1.0                          305                  1.00   \n",
       "4             2.0                         1428                  1.00   \n",
       "...           ...                          ...                   ...   \n",
       "9235          8.0                         1845                  2.67   \n",
       "9236          2.0                          238                  2.00   \n",
       "9237          2.0                          199                  2.00   \n",
       "9238          3.0                          499                  3.00   \n",
       "9239          6.0                         1279                  3.00   \n",
       "\n",
       "                Last Activity Purchased  \n",
       "0     Page Visited on Website        No  \n",
       "1                Email Opened        No  \n",
       "2                Email Opened       Yes  \n",
       "3                 Unreachable        No  \n",
       "4           Converted to Lead       Yes  \n",
       "...                       ...       ...  \n",
       "9235        Email Marked Spam       Yes  \n",
       "9236                 SMS Sent        No  \n",
       "9237                 SMS Sent        No  \n",
       "9238                 SMS Sent       Yes  \n",
       "9239                 SMS Sent       Yes  \n",
       "\n",
       "[9103 rows x 15 columns]"
      ]
     },
     "execution_count": 72,
     "metadata": {},
     "output_type": "execute_result"
    }
   ],
   "source": [
    "data1.dropna(subset = ['TotalVisits', 'Page Views Per Visit'])"
   ]
  },
  {
   "cell_type": "code",
   "execution_count": 73,
   "id": "faaee70a",
   "metadata": {},
   "outputs": [],
   "source": [
    "df= data1.fillna('N/A')"
   ]
  },
  {
   "cell_type": "code",
   "execution_count": 74,
   "id": "4b2a5078",
   "metadata": {},
   "outputs": [
    {
     "data": {
      "text/plain": [
       "ID                                               0\n",
       "Country                                          0\n",
       "Specialization                                   0\n",
       "How did you hear about Us                        0\n",
       "Current_Occupation                               0\n",
       "What matters most to you in choosing a course    0\n",
       "Origin                                           0\n",
       "Source                                           0\n",
       "Do Not Email                                     0\n",
       "Do Not Call                                      0\n",
       "TotalVisits                                      0\n",
       "Total Time Spent on Website                      0\n",
       "Page Views Per Visit                             0\n",
       "Last Activity                                    0\n",
       "Purchased                                        0\n",
       "dtype: int64"
      ]
     },
     "execution_count": 74,
     "metadata": {},
     "output_type": "execute_result"
    }
   ],
   "source": [
    "df.isnull().sum()"
   ]
  },
  {
   "cell_type": "code",
   "execution_count": 171,
   "id": "dfdbafbb",
   "metadata": {},
   "outputs": [
    {
     "data": {
      "text/plain": [
       "India                   6492\n",
       "N/A                     2465\n",
       "United States             69\n",
       "United Arab Emirates      53\n",
       "Singapore                 24\n",
       "Saudi Arabia              21\n",
       "United Kingdom            15\n",
       "Australia                 13\n",
       "Qatar                     10\n",
       "Hong Kong                  7\n",
       "Name: Country, dtype: int64"
      ]
     },
     "execution_count": 171,
     "metadata": {},
     "output_type": "execute_result"
    }
   ],
   "source": [
    "df['Country'].value_counts().nlargest(10)\n"
   ]
  },
  {
   "cell_type": "code",
   "execution_count": 172,
   "id": "8caf46b2",
   "metadata": {},
   "outputs": [
    {
     "data": {
      "text/plain": [
       "Better Career Prospects      6528\n",
       "N/A                          2709\n",
       "Flexibility & Convenience       2\n",
       "Other                           1\n",
       "Name: What matters most to you in choosing a course, dtype: int64"
      ]
     },
     "execution_count": 172,
     "metadata": {},
     "output_type": "execute_result"
    }
   ],
   "source": [
    "df['What matters most to you in choosing a course'].value_counts()"
   ]
  },
  {
   "cell_type": "code",
   "execution_count": 173,
   "id": "2559c2f2",
   "metadata": {},
   "outputs": [],
   "source": [
    "del df['What matters most to you in choosing a course']"
   ]
  },
  {
   "cell_type": "code",
   "execution_count": 174,
   "id": "9194d3f6",
   "metadata": {},
   "outputs": [
    {
     "data": {
      "text/plain": [
       "<AxesSubplot:>"
      ]
     },
     "execution_count": 174,
     "metadata": {},
     "output_type": "execute_result"
    },
    {
     "data": {
      "image/png": "[encoded data removed]",
      "text/plain": [
       "<Figure size 432x288 with 2 Axes>"
      ]
     },
     "metadata": {
      "needs_background": "light"
     },
     "output_type": "display_data"
    }
   ],
   "source": [
    "sns.heatmap(df.corr(), annot =True)"
   ]
  },
  {
   "cell_type": "code",
   "execution_count": 154,
   "id": "24d8930e",
   "metadata": {},
   "outputs": [
    {
     "data": {
      "text/plain": [
       "<AxesSubplot:>"
      ]
     },
     "execution_count": 154,
     "metadata": {},
     "output_type": "execute_result"
    },
    {
     "data": {
      "image/png": "[encoded data removed]",
      "text/plain": [
       "<Figure size 432x288 with 1 Axes>"
      ]
     },
     "metadata": {
      "needs_background": "light"
     },
     "output_type": "display_data"
    }
   ],
   "source": [
    "df['Specialization'].value_counts().nlargest(10).plot(kind='barh')"
   ]
  },
  {
   "cell_type": "code",
   "execution_count": 155,
   "id": "45287ea4",
   "metadata": {},
   "outputs": [
    {
     "data": {
      "text/plain": [
       "N/A                      7249\n",
       "Online Search             808\n",
       "Word Of Mouth             349\n",
       "Student of SomeSchool     310\n",
       "Other                     186\n",
       "Multiple Sources          152\n",
       "Advertisements             70\n",
       "Social Media               67\n",
       "Email                      26\n",
       "SMS                        23\n",
       "Name: How did you hear about Us, dtype: int64"
      ]
     },
     "execution_count": 155,
     "metadata": {},
     "output_type": "execute_result"
    }
   ],
   "source": [
    "df['How did you hear about Us'].value_counts()\n"
   ]
  },
  {
   "cell_type": "code",
   "execution_count": 156,
   "id": "72d04964",
   "metadata": {},
   "outputs": [
    {
     "data": {
      "text/plain": [
       "<AxesSubplot:ylabel='Purchased'>"
      ]
     },
     "execution_count": 156,
     "metadata": {},
     "output_type": "execute_result"
    },
    {
     "data": {
      "image/png": "[encoded data removed]",
      "text/plain": [
       "<Figure size 432x288 with 1 Axes>"
      ]
     },
     "metadata": {},
     "output_type": "display_data"
    }
   ],
   "source": [
    "df.Purchased.value_counts().plot(kind='pie',autopct='%.f%%')"
   ]
  },
  {
   "cell_type": "code",
   "execution_count": 157,
   "id": "ddf26603",
   "metadata": {},
   "outputs": [
    {
     "data": {
      "text/plain": [
       "<seaborn.axisgrid.JointGrid at 0x1a7f9364970>"
      ]
     },
     "execution_count": 157,
     "metadata": {},
     "output_type": "execute_result"
    },
    {
     "data": {
      "image/png": "[encoded data removed]",
      "text/plain": [
       "<Figure size 432x432 with 3 Axes>"
      ]
     },
     "metadata": {
      "needs_background": "light"
     },
     "output_type": "display_data"
    }
   ],
   "source": [
    "sns.jointplot(y='Source', x='How did you hear about Us', data=df, kind='scatter')"
   ]
  },
  {
   "cell_type": "code",
   "execution_count": 158,
   "id": "9a66f74b",
   "metadata": {},
   "outputs": [
    {
     "data": {
      "text/plain": [
       "<seaborn.axisgrid.PairGrid at 0x1a7f94dba60>"
      ]
     },
     "execution_count": 158,
     "metadata": {},
     "output_type": "execute_result"
    },
    {
     "data": {
      "image/png": "[encoded data removed]",
      "text/plain": [
       "<Figure size 360x360 with 6 Axes>"
      ]
     },
     "metadata": {
      "needs_background": "light"
     },
     "output_type": "display_data"
    }
   ],
   "source": [
    "sns.pairplot(df)"
   ]
  },
  {
   "cell_type": "code",
   "execution_count": 159,
   "id": "9e9b5768",
   "metadata": {},
   "outputs": [
    {
     "data": {
      "text/plain": [
       "<AxesSubplot:xlabel='Total Time Spent on Website', ylabel='Density'>"
      ]
     },
     "execution_count": 159,
     "metadata": {},
     "output_type": "execute_result"
    },
    {
     "data": {
      "image/png": "[encoded data removed]",
      "text/plain": [
       "<Figure size 432x288 with 1 Axes>"
      ]
     },
     "metadata": {
      "needs_background": "light"
     },
     "output_type": "display_data"
    }
   ],
   "source": [
    "sns.kdeplot(df['Total Time Spent on Website'])"
   ]
  },
  {
   "cell_type": "code",
   "execution_count": 160,
   "id": "f9e84afb",
   "metadata": {},
   "outputs": [
    {
     "data": {
      "image/png": "[encoded data removed]",
      "text/plain": [
       "<Figure size 1080x360 with 1 Axes>"
      ]
     },
     "metadata": {
      "needs_background": "light"
     },
     "output_type": "display_data"
    }
   ],
   "source": [
    "\n",
    "fig, ax = plt.subplots(figsize=(15, 5))\n",
    "sns.countplot(x='Current_Occupation', data=df,ax=ax)\n",
    "plt.show()"
   ]
  },
  {
   "cell_type": "code",
   "execution_count": 161,
   "id": "22bb3f18",
   "metadata": {},
   "outputs": [
    {
     "data": {
      "text/plain": [
       "<AxesSubplot:xlabel='Total Time Spent on Website', ylabel='Origin'>"
      ]
     },
     "execution_count": 161,
     "metadata": {},
     "output_type": "execute_result"
    },
    {
     "data": {
      "image/png": "[encoded data removed]",
      "text/plain": [
       "<Figure size 432x288 with 1 Axes>"
      ]
     },
     "metadata": {
      "needs_background": "light"
     },
     "output_type": "display_data"
    }
   ],
   "source": [
    "sns.boxplot(y=\"Origin\", x=\"Total Time Spent on Website\", data=df, palette='rainbow')"
   ]
  },
  {
   "cell_type": "code",
   "execution_count": 162,
   "id": "f73e9adc",
   "metadata": {},
   "outputs": [
    {
     "data": {
      "text/plain": [
       "<AxesSubplot:xlabel='Total Time Spent on Website', ylabel='Origin'>"
      ]
     },
     "execution_count": 162,
     "metadata": {},
     "output_type": "execute_result"
    },
    {
     "data": {
      "image/png": "[encoded data removed]",
      "text/plain": [
       "<Figure size 432x288 with 1 Axes>"
      ]
     },
     "metadata": {
      "needs_background": "light"
     },
     "output_type": "display_data"
    }
   ],
   "source": [
    "sns.stripplot(y=\"Origin\", x=\"Total Time Spent on Website\", data=df)"
   ]
  },
  {
   "cell_type": "code",
   "execution_count": 163,
   "id": "8ee8ed0a",
   "metadata": {},
   "outputs": [
    {
     "data": {
      "text/plain": [
       "<AxesSubplot:xlabel='counts', ylabel='Source'>"
      ]
     },
     "execution_count": 163,
     "metadata": {},
     "output_type": "execute_result"
    },
    {
     "data": {
      "image/png": "[encoded data removed]",
      "text/plain": [
       "<Figure size 432x288 with 1 Axes>"
      ]
     },
     "metadata": {
      "needs_background": "light"
     },
     "output_type": "display_data"
    }
   ],
   "source": [
    "top10=df['Source'].value_counts().rename_axis('Source').reset_index(name = 'counts')[:10]\n",
    "top10\n",
    "sns.barplot(y='Source', x='counts', data=top10)"
   ]
  },
  {
   "cell_type": "code",
   "execution_count": 164,
   "id": "472e5c5c",
   "metadata": {},
   "outputs": [
    {
     "data": {
      "text/plain": [
       "<AxesSubplot:xlabel='counts', ylabel='Origin'>"
      ]
     },
     "execution_count": 164,
     "metadata": {},
     "output_type": "execute_result"
    },
    {
     "data": {
      "image/png": "[encoded data removed]",
      "text/plain": [
       "<Figure size 432x288 with 1 Axes>"
      ]
     },
     "metadata": {
      "needs_background": "light"
     },
     "output_type": "display_data"
    }
   ],
   "source": [
    "top10=df['Origin'].value_counts().rename_axis('Origin').reset_index(name = 'counts')[:10]\n",
    "top10\n",
    "sns.barplot(y='Origin', x='counts', data=top10)"
   ]
  },
  {
   "cell_type": "code",
   "execution_count": 165,
   "id": "85724c37",
   "metadata": {},
   "outputs": [
    {
     "data": {
      "image/png": "[encoded data removed]",
      "text/plain": [
       "<Figure size 1080x360 with 1 Axes>"
      ]
     },
     "metadata": {
      "needs_background": "light"
     },
     "output_type": "display_data"
    }
   ],
   "source": [
    "plt.figure(figsize=(15,5))\n",
    "sns.distplot(df['Total Time Spent on Website'])\n",
    "plt.show()"
   ]
  },
  {
   "cell_type": "code",
   "execution_count": 166,
   "id": "b0d4dfb1",
   "metadata": {},
   "outputs": [
    {
     "data": {
      "text/plain": [
       "<seaborn.axisgrid.FacetGrid at 0x1a7f744fca0>"
      ]
     },
     "execution_count": 166,
     "metadata": {},
     "output_type": "execute_result"
    },
    {
     "data": {
      "image/png": "[encoded data removed]",
      "text/plain": [
       "<Figure size 1440x360 with 1 Axes>"
      ]
     },
     "metadata": {
      "needs_background": "light"
     },
     "output_type": "display_data"
    }
   ],
   "source": [
    "ind=df[df['Country']=='India']\n",
    "ind1=ind[ind['Current_Occupation']=='Unemployed']\n",
    "\n",
    "sns.catplot('Source',kind = 'count',data = ind1,aspect =4)"
   ]
  },
  {
   "cell_type": "code",
   "execution_count": 179,
   "id": "6fecf88d",
   "metadata": {},
   "outputs": [
    {
     "data": {
      "text/plain": [
       "<AxesSubplot:>"
      ]
     },
     "execution_count": 179,
     "metadata": {},
     "output_type": "execute_result"
    },
    {
     "data": {
      "image/png": "[encoded data removed]",
      "text/plain": [
       "<Figure size 432x288 with 1 Axes>"
      ]
     },
     "metadata": {
      "needs_background": "light"
     },
     "output_type": "display_data"
    }
   ],
   "source": [
    "df['Do Not Email'].value_counts().plot(kind='bar')"
   ]
  },
  {
   "cell_type": "code",
   "execution_count": 181,
   "id": "f3744fab",
   "metadata": {},
   "outputs": [
    {
     "data": {
      "text/plain": [
       "No     9238\n",
       "Yes       2\n",
       "Name: Do Not Call, dtype: int64"
      ]
     },
     "execution_count": 181,
     "metadata": {},
     "output_type": "execute_result"
    }
   ],
   "source": [
    "df['Do Not Call'].value_counts()#.plot(kind='bar')"
   ]
  },
  {
   "cell_type": "code",
   "execution_count": 176,
   "id": "bb069bf5",
   "metadata": {},
   "outputs": [
    {
     "data": {
      "text/html": [
       "<div>\n",
       "<style scoped>\n",
       "    .dataframe tbody tr th:only-of-type {\n",
       "        vertical-align: middle;\n",
       "    }\n",
       "\n",
       "    .dataframe tbody tr th {\n",
       "        vertical-align: top;\n",
       "    }\n",
       "\n",
       "    .dataframe thead th {\n",
       "        text-align: right;\n",
       "    }\n",
       "</style>\n",
       "<table border=\"1\" class=\"dataframe\">\n",
       "  <thead>\n",
       "    <tr style=\"text-align: right;\">\n",
       "      <th></th>\n",
       "      <th>ID</th>\n",
       "      <th>Country</th>\n",
       "      <th>Specialization</th>\n",
       "      <th>How did you hear about Us</th>\n",
       "      <th>Current_Occupation</th>\n",
       "      <th>Origin</th>\n",
       "      <th>Source</th>\n",
       "      <th>Do Not Email</th>\n",
       "      <th>Do Not Call</th>\n",
       "      <th>TotalVisits</th>\n",
       "      <th>Total Time Spent on Website</th>\n",
       "      <th>Page Views Per Visit</th>\n",
       "      <th>Last Activity</th>\n",
       "      <th>Purchased</th>\n",
       "    </tr>\n",
       "  </thead>\n",
       "  <tbody>\n",
       "    <tr>\n",
       "      <th>0</th>\n",
       "      <td>1</td>\n",
       "      <td>Russia</td>\n",
       "      <td>Business Administration</td>\n",
       "      <td>Word Of Mouth</td>\n",
       "      <td>Unemployed</td>\n",
       "      <td>API</td>\n",
       "      <td>Olark Chat</td>\n",
       "      <td>No</td>\n",
       "      <td>No</td>\n",
       "      <td>0.0</td>\n",
       "      <td>0</td>\n",
       "      <td>0.0</td>\n",
       "      <td>Page Visited on Website</td>\n",
       "      <td>No</td>\n",
       "    </tr>\n",
       "    <tr>\n",
       "      <th>1</th>\n",
       "      <td>2</td>\n",
       "      <td>India</td>\n",
       "      <td>N/A</td>\n",
       "      <td>N/A</td>\n",
       "      <td>Unemployed</td>\n",
       "      <td>API</td>\n",
       "      <td>Organic Search</td>\n",
       "      <td>No</td>\n",
       "      <td>No</td>\n",
       "      <td>5.0</td>\n",
       "      <td>674</td>\n",
       "      <td>2.5</td>\n",
       "      <td>Email Opened</td>\n",
       "      <td>No</td>\n",
       "    </tr>\n",
       "  </tbody>\n",
       "</table>\n",
       "</div>"
      ],
      "text/plain": [
       "   ID Country           Specialization How did you hear about Us  \\\n",
       "0   1  Russia  Business Administration             Word Of Mouth   \n",
       "1   2   India                      N/A                       N/A   \n",
       "\n",
       "  Current_Occupation Origin          Source Do Not Email Do Not Call  \\\n",
       "0         Unemployed    API      Olark Chat           No          No   \n",
       "1         Unemployed    API  Organic Search           No          No   \n",
       "\n",
       "  TotalVisits  Total Time Spent on Website Page Views Per Visit  \\\n",
       "0         0.0                            0                  0.0   \n",
       "1         5.0                          674                  2.5   \n",
       "\n",
       "             Last Activity Purchased  \n",
       "0  Page Visited on Website        No  \n",
       "1             Email Opened        No  "
      ]
     },
     "execution_count": 176,
     "metadata": {},
     "output_type": "execute_result"
    }
   ],
   "source": [
    "df.head(2)"
   ]
  },
  {
   "cell_type": "code",
   "execution_count": 183,
   "id": "f8f1b709",
   "metadata": {},
   "outputs": [
    {
     "data": {
      "text/plain": [
       "<AxesSubplot:>"
      ]
     },
     "execution_count": 183,
     "metadata": {},
     "output_type": "execute_result"
    },
    {
     "data": {
      "image/png": "[encoded data removed]",
      "text/plain": [
       "<Figure size 432x288 with 1 Axes>"
      ]
     },
     "metadata": {
      "needs_background": "light"
     },
     "output_type": "display_data"
    }
   ],
   "source": [
    "df['Last Activity'].value_counts().plot(kind='barh')"
   ]
  },
  {
   "cell_type": "code",
   "execution_count": 168,
   "id": "4f714b82",
   "metadata": {},
   "outputs": [
    {
     "data": {
      "text/html": [
       "<div>\n",
       "<style scoped>\n",
       "    .dataframe tbody tr th:only-of-type {\n",
       "        vertical-align: middle;\n",
       "    }\n",
       "\n",
       "    .dataframe tbody tr th {\n",
       "        vertical-align: top;\n",
       "    }\n",
       "\n",
       "    .dataframe thead th {\n",
       "        text-align: right;\n",
       "    }\n",
       "</style>\n",
       "<table border=\"1\" class=\"dataframe\">\n",
       "  <thead>\n",
       "    <tr style=\"text-align: right;\">\n",
       "      <th></th>\n",
       "      <th>ID</th>\n",
       "      <th>Country</th>\n",
       "      <th>How did you hear about Us</th>\n",
       "      <th>Current_Occupation</th>\n",
       "      <th>Origin</th>\n",
       "      <th>Source</th>\n",
       "      <th>Do Not Email</th>\n",
       "      <th>Do Not Call</th>\n",
       "      <th>TotalVisits</th>\n",
       "      <th>Total Time Spent on Website</th>\n",
       "      <th>Page Views Per Visit</th>\n",
       "      <th>Last Activity</th>\n",
       "      <th>Purchased</th>\n",
       "    </tr>\n",
       "    <tr>\n",
       "      <th>Specialization</th>\n",
       "      <th></th>\n",
       "      <th></th>\n",
       "      <th></th>\n",
       "      <th></th>\n",
       "      <th></th>\n",
       "      <th></th>\n",
       "      <th></th>\n",
       "      <th></th>\n",
       "      <th></th>\n",
       "      <th></th>\n",
       "      <th></th>\n",
       "      <th></th>\n",
       "      <th></th>\n",
       "    </tr>\n",
       "  </thead>\n",
       "  <tbody>\n",
       "    <tr>\n",
       "      <th>Banking, Investment And Insurance</th>\n",
       "      <td>338</td>\n",
       "      <td>338</td>\n",
       "      <td>338</td>\n",
       "      <td>338</td>\n",
       "      <td>338</td>\n",
       "      <td>338</td>\n",
       "      <td>338</td>\n",
       "      <td>338</td>\n",
       "      <td>338</td>\n",
       "      <td>338</td>\n",
       "      <td>338</td>\n",
       "      <td>338</td>\n",
       "      <td>338</td>\n",
       "    </tr>\n",
       "    <tr>\n",
       "      <th>Business Administration</th>\n",
       "      <td>404</td>\n",
       "      <td>404</td>\n",
       "      <td>404</td>\n",
       "      <td>404</td>\n",
       "      <td>404</td>\n",
       "      <td>404</td>\n",
       "      <td>404</td>\n",
       "      <td>404</td>\n",
       "      <td>404</td>\n",
       "      <td>404</td>\n",
       "      <td>404</td>\n",
       "      <td>404</td>\n",
       "      <td>404</td>\n",
       "    </tr>\n",
       "    <tr>\n",
       "      <th>E-Business</th>\n",
       "      <td>57</td>\n",
       "      <td>57</td>\n",
       "      <td>57</td>\n",
       "      <td>57</td>\n",
       "      <td>57</td>\n",
       "      <td>57</td>\n",
       "      <td>57</td>\n",
       "      <td>57</td>\n",
       "      <td>57</td>\n",
       "      <td>57</td>\n",
       "      <td>57</td>\n",
       "      <td>57</td>\n",
       "      <td>57</td>\n",
       "    </tr>\n",
       "    <tr>\n",
       "      <th>E-COMMERCE</th>\n",
       "      <td>112</td>\n",
       "      <td>112</td>\n",
       "      <td>112</td>\n",
       "      <td>112</td>\n",
       "      <td>112</td>\n",
       "      <td>112</td>\n",
       "      <td>112</td>\n",
       "      <td>112</td>\n",
       "      <td>112</td>\n",
       "      <td>112</td>\n",
       "      <td>112</td>\n",
       "      <td>112</td>\n",
       "      <td>112</td>\n",
       "    </tr>\n",
       "    <tr>\n",
       "      <th>Finance Management</th>\n",
       "      <td>976</td>\n",
       "      <td>976</td>\n",
       "      <td>976</td>\n",
       "      <td>976</td>\n",
       "      <td>976</td>\n",
       "      <td>976</td>\n",
       "      <td>976</td>\n",
       "      <td>976</td>\n",
       "      <td>976</td>\n",
       "      <td>976</td>\n",
       "      <td>976</td>\n",
       "      <td>976</td>\n",
       "      <td>976</td>\n",
       "    </tr>\n",
       "    <tr>\n",
       "      <th>Healthcare Management</th>\n",
       "      <td>159</td>\n",
       "      <td>159</td>\n",
       "      <td>159</td>\n",
       "      <td>159</td>\n",
       "      <td>159</td>\n",
       "      <td>159</td>\n",
       "      <td>159</td>\n",
       "      <td>159</td>\n",
       "      <td>159</td>\n",
       "      <td>159</td>\n",
       "      <td>159</td>\n",
       "      <td>159</td>\n",
       "      <td>159</td>\n",
       "    </tr>\n",
       "    <tr>\n",
       "      <th>Hospitality Management</th>\n",
       "      <td>114</td>\n",
       "      <td>114</td>\n",
       "      <td>114</td>\n",
       "      <td>114</td>\n",
       "      <td>114</td>\n",
       "      <td>114</td>\n",
       "      <td>114</td>\n",
       "      <td>114</td>\n",
       "      <td>114</td>\n",
       "      <td>114</td>\n",
       "      <td>114</td>\n",
       "      <td>114</td>\n",
       "      <td>114</td>\n",
       "    </tr>\n",
       "    <tr>\n",
       "      <th>Human Resource Management</th>\n",
       "      <td>848</td>\n",
       "      <td>848</td>\n",
       "      <td>848</td>\n",
       "      <td>848</td>\n",
       "      <td>848</td>\n",
       "      <td>848</td>\n",
       "      <td>848</td>\n",
       "      <td>848</td>\n",
       "      <td>848</td>\n",
       "      <td>848</td>\n",
       "      <td>848</td>\n",
       "      <td>848</td>\n",
       "      <td>848</td>\n",
       "    </tr>\n",
       "    <tr>\n",
       "      <th>IT Projects Management</th>\n",
       "      <td>366</td>\n",
       "      <td>366</td>\n",
       "      <td>366</td>\n",
       "      <td>366</td>\n",
       "      <td>366</td>\n",
       "      <td>366</td>\n",
       "      <td>366</td>\n",
       "      <td>366</td>\n",
       "      <td>366</td>\n",
       "      <td>366</td>\n",
       "      <td>366</td>\n",
       "      <td>366</td>\n",
       "      <td>366</td>\n",
       "    </tr>\n",
       "    <tr>\n",
       "      <th>International Business</th>\n",
       "      <td>178</td>\n",
       "      <td>178</td>\n",
       "      <td>178</td>\n",
       "      <td>178</td>\n",
       "      <td>178</td>\n",
       "      <td>178</td>\n",
       "      <td>178</td>\n",
       "      <td>178</td>\n",
       "      <td>178</td>\n",
       "      <td>178</td>\n",
       "      <td>178</td>\n",
       "      <td>178</td>\n",
       "      <td>178</td>\n",
       "    </tr>\n",
       "    <tr>\n",
       "      <th>Marketing Management</th>\n",
       "      <td>838</td>\n",
       "      <td>838</td>\n",
       "      <td>838</td>\n",
       "      <td>838</td>\n",
       "      <td>838</td>\n",
       "      <td>838</td>\n",
       "      <td>838</td>\n",
       "      <td>838</td>\n",
       "      <td>838</td>\n",
       "      <td>838</td>\n",
       "      <td>838</td>\n",
       "      <td>838</td>\n",
       "      <td>838</td>\n",
       "    </tr>\n",
       "    <tr>\n",
       "      <th>Media and Advertising</th>\n",
       "      <td>203</td>\n",
       "      <td>203</td>\n",
       "      <td>203</td>\n",
       "      <td>203</td>\n",
       "      <td>203</td>\n",
       "      <td>203</td>\n",
       "      <td>203</td>\n",
       "      <td>203</td>\n",
       "      <td>203</td>\n",
       "      <td>203</td>\n",
       "      <td>203</td>\n",
       "      <td>203</td>\n",
       "      <td>203</td>\n",
       "    </tr>\n",
       "    <tr>\n",
       "      <th>N/A</th>\n",
       "      <td>3379</td>\n",
       "      <td>3379</td>\n",
       "      <td>3379</td>\n",
       "      <td>3379</td>\n",
       "      <td>3379</td>\n",
       "      <td>3379</td>\n",
       "      <td>3379</td>\n",
       "      <td>3379</td>\n",
       "      <td>3379</td>\n",
       "      <td>3379</td>\n",
       "      <td>3379</td>\n",
       "      <td>3379</td>\n",
       "      <td>3379</td>\n",
       "    </tr>\n",
       "    <tr>\n",
       "      <th>Operations Management</th>\n",
       "      <td>503</td>\n",
       "      <td>503</td>\n",
       "      <td>503</td>\n",
       "      <td>503</td>\n",
       "      <td>503</td>\n",
       "      <td>503</td>\n",
       "      <td>503</td>\n",
       "      <td>503</td>\n",
       "      <td>503</td>\n",
       "      <td>503</td>\n",
       "      <td>503</td>\n",
       "      <td>503</td>\n",
       "      <td>503</td>\n",
       "    </tr>\n",
       "    <tr>\n",
       "      <th>Retail Management</th>\n",
       "      <td>100</td>\n",
       "      <td>100</td>\n",
       "      <td>100</td>\n",
       "      <td>100</td>\n",
       "      <td>100</td>\n",
       "      <td>100</td>\n",
       "      <td>100</td>\n",
       "      <td>100</td>\n",
       "      <td>100</td>\n",
       "      <td>100</td>\n",
       "      <td>100</td>\n",
       "      <td>100</td>\n",
       "      <td>100</td>\n",
       "    </tr>\n",
       "    <tr>\n",
       "      <th>Rural and Agribusiness</th>\n",
       "      <td>73</td>\n",
       "      <td>73</td>\n",
       "      <td>73</td>\n",
       "      <td>73</td>\n",
       "      <td>73</td>\n",
       "      <td>73</td>\n",
       "      <td>73</td>\n",
       "      <td>73</td>\n",
       "      <td>73</td>\n",
       "      <td>73</td>\n",
       "      <td>73</td>\n",
       "      <td>73</td>\n",
       "      <td>73</td>\n",
       "    </tr>\n",
       "    <tr>\n",
       "      <th>Services Excellence</th>\n",
       "      <td>40</td>\n",
       "      <td>40</td>\n",
       "      <td>40</td>\n",
       "      <td>40</td>\n",
       "      <td>40</td>\n",
       "      <td>40</td>\n",
       "      <td>40</td>\n",
       "      <td>40</td>\n",
       "      <td>40</td>\n",
       "      <td>40</td>\n",
       "      <td>40</td>\n",
       "      <td>40</td>\n",
       "      <td>40</td>\n",
       "    </tr>\n",
       "    <tr>\n",
       "      <th>Supply Chain Management</th>\n",
       "      <td>349</td>\n",
       "      <td>349</td>\n",
       "      <td>349</td>\n",
       "      <td>349</td>\n",
       "      <td>349</td>\n",
       "      <td>349</td>\n",
       "      <td>349</td>\n",
       "      <td>349</td>\n",
       "      <td>349</td>\n",
       "      <td>349</td>\n",
       "      <td>349</td>\n",
       "      <td>349</td>\n",
       "      <td>349</td>\n",
       "    </tr>\n",
       "    <tr>\n",
       "      <th>Travel and Tourism</th>\n",
       "      <td>203</td>\n",
       "      <td>203</td>\n",
       "      <td>203</td>\n",
       "      <td>203</td>\n",
       "      <td>203</td>\n",
       "      <td>203</td>\n",
       "      <td>203</td>\n",
       "      <td>203</td>\n",
       "      <td>203</td>\n",
       "      <td>203</td>\n",
       "      <td>203</td>\n",
       "      <td>203</td>\n",
       "      <td>203</td>\n",
       "    </tr>\n",
       "  </tbody>\n",
       "</table>\n",
       "</div>"
      ],
      "text/plain": [
       "                                     ID  Country  How did you hear about Us  \\\n",
       "Specialization                                                                \n",
       "Banking, Investment And Insurance   338      338                        338   \n",
       "Business Administration             404      404                        404   \n",
       "E-Business                           57       57                         57   \n",
       "E-COMMERCE                          112      112                        112   \n",
       "Finance Management                  976      976                        976   \n",
       "Healthcare Management               159      159                        159   \n",
       "Hospitality Management              114      114                        114   \n",
       "Human Resource Management           848      848                        848   \n",
       "IT Projects Management              366      366                        366   \n",
       "International Business              178      178                        178   \n",
       "Marketing Management                838      838                        838   \n",
       "Media and Advertising               203      203                        203   \n",
       "N/A                                3379     3379                       3379   \n",
       "Operations Management               503      503                        503   \n",
       "Retail Management                   100      100                        100   \n",
       "Rural and Agribusiness               73       73                         73   \n",
       "Services Excellence                  40       40                         40   \n",
       "Supply Chain Management             349      349                        349   \n",
       "Travel and Tourism                  203      203                        203   \n",
       "\n",
       "                                   Current_Occupation  Origin  Source  \\\n",
       "Specialization                                                          \n",
       "Banking, Investment And Insurance                 338     338     338   \n",
       "Business Administration                           404     404     404   \n",
       "E-Business                                         57      57      57   \n",
       "E-COMMERCE                                        112     112     112   \n",
       "Finance Management                                976     976     976   \n",
       "Healthcare Management                             159     159     159   \n",
       "Hospitality Management                            114     114     114   \n",
       "Human Resource Management                         848     848     848   \n",
       "IT Projects Management                            366     366     366   \n",
       "International Business                            178     178     178   \n",
       "Marketing Management                              838     838     838   \n",
       "Media and Advertising                             203     203     203   \n",
       "N/A                                              3379    3379    3379   \n",
       "Operations Management                             503     503     503   \n",
       "Retail Management                                 100     100     100   \n",
       "Rural and Agribusiness                             73      73      73   \n",
       "Services Excellence                                40      40      40   \n",
       "Supply Chain Management                           349     349     349   \n",
       "Travel and Tourism                                203     203     203   \n",
       "\n",
       "                                   Do Not Email  Do Not Call  TotalVisits  \\\n",
       "Specialization                                                              \n",
       "Banking, Investment And Insurance           338          338          338   \n",
       "Business Administration                     404          404          404   \n",
       "E-Business                                   57           57           57   \n",
       "E-COMMERCE                                  112          112          112   \n",
       "Finance Management                          976          976          976   \n",
       "Healthcare Management                       159          159          159   \n",
       "Hospitality Management                      114          114          114   \n",
       "Human Resource Management                   848          848          848   \n",
       "IT Projects Management                      366          366          366   \n",
       "International Business                      178          178          178   \n",
       "Marketing Management                        838          838          838   \n",
       "Media and Advertising                       203          203          203   \n",
       "N/A                                        3379         3379         3379   \n",
       "Operations Management                       503          503          503   \n",
       "Retail Management                           100          100          100   \n",
       "Rural and Agribusiness                       73           73           73   \n",
       "Services Excellence                          40           40           40   \n",
       "Supply Chain Management                     349          349          349   \n",
       "Travel and Tourism                          203          203          203   \n",
       "\n",
       "                                   Total Time Spent on Website  \\\n",
       "Specialization                                                   \n",
       "Banking, Investment And Insurance                          338   \n",
       "Business Administration                                    404   \n",
       "E-Business                                                  57   \n",
       "E-COMMERCE                                                 112   \n",
       "Finance Management                                         976   \n",
       "Healthcare Management                                      159   \n",
       "Hospitality Management                                     114   \n",
       "Human Resource Management                                  848   \n",
       "IT Projects Management                                     366   \n",
       "International Business                                     178   \n",
       "Marketing Management                                       838   \n",
       "Media and Advertising                                      203   \n",
       "N/A                                                       3379   \n",
       "Operations Management                                      503   \n",
       "Retail Management                                          100   \n",
       "Rural and Agribusiness                                      73   \n",
       "Services Excellence                                         40   \n",
       "Supply Chain Management                                    349   \n",
       "Travel and Tourism                                         203   \n",
       "\n",
       "                                   Page Views Per Visit  Last Activity  \\\n",
       "Specialization                                                           \n",
       "Banking, Investment And Insurance                   338            338   \n",
       "Business Administration                             404            404   \n",
       "E-Business                                           57             57   \n",
       "E-COMMERCE                                          112            112   \n",
       "Finance Management                                  976            976   \n",
       "Healthcare Management                               159            159   \n",
       "Hospitality Management                              114            114   \n",
       "Human Resource Management                           848            848   \n",
       "IT Projects Management                              366            366   \n",
       "International Business                              178            178   \n",
       "Marketing Management                                838            838   \n",
       "Media and Advertising                               203            203   \n",
       "N/A                                                3379           3379   \n",
       "Operations Management                               503            503   \n",
       "Retail Management                                   100            100   \n",
       "Rural and Agribusiness                               73             73   \n",
       "Services Excellence                                  40             40   \n",
       "Supply Chain Management                             349            349   \n",
       "Travel and Tourism                                  203            203   \n",
       "\n",
       "                                   Purchased  \n",
       "Specialization                                \n",
       "Banking, Investment And Insurance        338  \n",
       "Business Administration                  404  \n",
       "E-Business                                57  \n",
       "E-COMMERCE                               112  \n",
       "Finance Management                       976  \n",
       "Healthcare Management                    159  \n",
       "Hospitality Management                   114  \n",
       "Human Resource Management                848  \n",
       "IT Projects Management                   366  \n",
       "International Business                   178  \n",
       "Marketing Management                     838  \n",
       "Media and Advertising                    203  \n",
       "N/A                                     3379  \n",
       "Operations Management                    503  \n",
       "Retail Management                        100  \n",
       "Rural and Agribusiness                    73  \n",
       "Services Excellence                       40  \n",
       "Supply Chain Management                  349  \n",
       "Travel and Tourism                       203  "
      ]
     },
     "execution_count": 168,
     "metadata": {},
     "output_type": "execute_result"
    }
   ],
   "source": [
    "df.groupby('Specialization').count()"
   ]
  },
  {
   "cell_type": "code",
   "execution_count": 192,
   "id": "8143e691",
   "metadata": {},
   "outputs": [
    {
     "data": {
      "text/plain": [
       "<AxesSubplot:xlabel='Source'>"
      ]
     },
     "execution_count": 192,
     "metadata": {},
     "output_type": "execute_result"
    },
    {
     "data": {
      "image/png": "[encoded data removed]",
      "text/plain": [
       "<Figure size 432x288 with 1 Axes>"
      ]
     },
     "metadata": {
      "needs_background": "light"
     },
     "output_type": "display_data"
    }
   ],
   "source": [
    "df.groupby('Source')['Total Time Spent on Website'].sum().nlargest(7).plot(kind='bar')"
   ]
  },
  {
   "cell_type": "code",
   "execution_count": 145,
   "id": "fc848a83",
   "metadata": {},
   "outputs": [
    {
     "data": {
      "text/html": [
       "<div>\n",
       "<style scoped>\n",
       "    .dataframe tbody tr th:only-of-type {\n",
       "        vertical-align: middle;\n",
       "    }\n",
       "\n",
       "    .dataframe tbody tr th {\n",
       "        vertical-align: top;\n",
       "    }\n",
       "\n",
       "    .dataframe thead th {\n",
       "        text-align: right;\n",
       "    }\n",
       "</style>\n",
       "<table border=\"1\" class=\"dataframe\">\n",
       "  <thead>\n",
       "    <tr style=\"text-align: right;\">\n",
       "      <th></th>\n",
       "      <th>ID</th>\n",
       "      <th>Purchased</th>\n",
       "      <th>Do Not Email</th>\n",
       "      <th>Do Not Call</th>\n",
       "      <th>TotalVisits</th>\n",
       "      <th>Total Time Spent on Website</th>\n",
       "      <th>Page Views Per Visit</th>\n",
       "      <th>Specialization</th>\n",
       "      <th>Origin</th>\n",
       "    </tr>\n",
       "  </thead>\n",
       "  <tbody>\n",
       "    <tr>\n",
       "      <th>0</th>\n",
       "      <td>1</td>\n",
       "      <td>No</td>\n",
       "      <td>No</td>\n",
       "      <td>No</td>\n",
       "      <td>0.0</td>\n",
       "      <td>0</td>\n",
       "      <td>0.00</td>\n",
       "      <td>NaN</td>\n",
       "      <td>API</td>\n",
       "    </tr>\n",
       "    <tr>\n",
       "      <th>1</th>\n",
       "      <td>2</td>\n",
       "      <td>No</td>\n",
       "      <td>No</td>\n",
       "      <td>No</td>\n",
       "      <td>5.0</td>\n",
       "      <td>674</td>\n",
       "      <td>2.50</td>\n",
       "      <td>NaN</td>\n",
       "      <td>API</td>\n",
       "    </tr>\n",
       "    <tr>\n",
       "      <th>2</th>\n",
       "      <td>3</td>\n",
       "      <td>Yes</td>\n",
       "      <td>No</td>\n",
       "      <td>No</td>\n",
       "      <td>2.0</td>\n",
       "      <td>1532</td>\n",
       "      <td>2.00</td>\n",
       "      <td>Business Administration</td>\n",
       "      <td>Landing Page Submission</td>\n",
       "    </tr>\n",
       "    <tr>\n",
       "      <th>3</th>\n",
       "      <td>4</td>\n",
       "      <td>No</td>\n",
       "      <td>No</td>\n",
       "      <td>No</td>\n",
       "      <td>1.0</td>\n",
       "      <td>305</td>\n",
       "      <td>1.00</td>\n",
       "      <td>Media and Advertising</td>\n",
       "      <td>Landing Page Submission</td>\n",
       "    </tr>\n",
       "    <tr>\n",
       "      <th>4</th>\n",
       "      <td>5</td>\n",
       "      <td>Yes</td>\n",
       "      <td>No</td>\n",
       "      <td>No</td>\n",
       "      <td>2.0</td>\n",
       "      <td>1428</td>\n",
       "      <td>1.00</td>\n",
       "      <td>NaN</td>\n",
       "      <td>Landing Page Submission</td>\n",
       "    </tr>\n",
       "    <tr>\n",
       "      <th>...</th>\n",
       "      <td>...</td>\n",
       "      <td>...</td>\n",
       "      <td>...</td>\n",
       "      <td>...</td>\n",
       "      <td>...</td>\n",
       "      <td>...</td>\n",
       "      <td>...</td>\n",
       "      <td>...</td>\n",
       "      <td>...</td>\n",
       "    </tr>\n",
       "    <tr>\n",
       "      <th>9235</th>\n",
       "      <td>9236</td>\n",
       "      <td>Yes</td>\n",
       "      <td>Yes</td>\n",
       "      <td>No</td>\n",
       "      <td>8.0</td>\n",
       "      <td>1845</td>\n",
       "      <td>2.67</td>\n",
       "      <td>IT Projects Management</td>\n",
       "      <td>Landing Page Submission</td>\n",
       "    </tr>\n",
       "    <tr>\n",
       "      <th>9236</th>\n",
       "      <td>9237</td>\n",
       "      <td>No</td>\n",
       "      <td>No</td>\n",
       "      <td>No</td>\n",
       "      <td>2.0</td>\n",
       "      <td>238</td>\n",
       "      <td>2.00</td>\n",
       "      <td>Media and Advertising</td>\n",
       "      <td>Landing Page Submission</td>\n",
       "    </tr>\n",
       "    <tr>\n",
       "      <th>9237</th>\n",
       "      <td>9238</td>\n",
       "      <td>No</td>\n",
       "      <td>Yes</td>\n",
       "      <td>No</td>\n",
       "      <td>2.0</td>\n",
       "      <td>199</td>\n",
       "      <td>2.00</td>\n",
       "      <td>Business Administration</td>\n",
       "      <td>Landing Page Submission</td>\n",
       "    </tr>\n",
       "    <tr>\n",
       "      <th>9238</th>\n",
       "      <td>9239</td>\n",
       "      <td>Yes</td>\n",
       "      <td>No</td>\n",
       "      <td>No</td>\n",
       "      <td>3.0</td>\n",
       "      <td>499</td>\n",
       "      <td>3.00</td>\n",
       "      <td>Human Resource Management</td>\n",
       "      <td>Landing Page Submission</td>\n",
       "    </tr>\n",
       "    <tr>\n",
       "      <th>9239</th>\n",
       "      <td>9240</td>\n",
       "      <td>Yes</td>\n",
       "      <td>No</td>\n",
       "      <td>No</td>\n",
       "      <td>6.0</td>\n",
       "      <td>1279</td>\n",
       "      <td>3.00</td>\n",
       "      <td>Supply Chain Management</td>\n",
       "      <td>Landing Page Submission</td>\n",
       "    </tr>\n",
       "  </tbody>\n",
       "</table>\n",
       "<p>9240 rows × 9 columns</p>\n",
       "</div>"
      ],
      "text/plain": [
       "        ID Purchased Do Not Email Do Not Call  TotalVisits  \\\n",
       "0        1        No           No          No          0.0   \n",
       "1        2        No           No          No          5.0   \n",
       "2        3       Yes           No          No          2.0   \n",
       "3        4        No           No          No          1.0   \n",
       "4        5       Yes           No          No          2.0   \n",
       "...    ...       ...          ...         ...          ...   \n",
       "9235  9236       Yes          Yes          No          8.0   \n",
       "9236  9237        No           No          No          2.0   \n",
       "9237  9238        No          Yes          No          2.0   \n",
       "9238  9239       Yes           No          No          3.0   \n",
       "9239  9240       Yes           No          No          6.0   \n",
       "\n",
       "      Total Time Spent on Website  Page Views Per Visit  \\\n",
       "0                               0                  0.00   \n",
       "1                             674                  2.50   \n",
       "2                            1532                  2.00   \n",
       "3                             305                  1.00   \n",
       "4                            1428                  1.00   \n",
       "...                           ...                   ...   \n",
       "9235                         1845                  2.67   \n",
       "9236                          238                  2.00   \n",
       "9237                          199                  2.00   \n",
       "9238                          499                  3.00   \n",
       "9239                         1279                  3.00   \n",
       "\n",
       "                 Specialization                   Origin  \n",
       "0                           NaN                      API  \n",
       "1                           NaN                      API  \n",
       "2       Business Administration  Landing Page Submission  \n",
       "3         Media and Advertising  Landing Page Submission  \n",
       "4                           NaN  Landing Page Submission  \n",
       "...                         ...                      ...  \n",
       "9235     IT Projects Management  Landing Page Submission  \n",
       "9236      Media and Advertising  Landing Page Submission  \n",
       "9237    Business Administration  Landing Page Submission  \n",
       "9238  Human Resource Management  Landing Page Submission  \n",
       "9239    Supply Chain Management  Landing Page Submission  \n",
       "\n",
       "[9240 rows x 9 columns]"
      ]
     },
     "execution_count": 145,
     "metadata": {},
     "output_type": "execute_result"
    }
   ],
   "source": [
    "data2"
   ]
  },
  {
   "cell_type": "code",
   "execution_count": 163,
   "id": "e211d300",
   "metadata": {},
   "outputs": [],
   "source": [
    "\n",
    "data2.dropna(subset=['TotalVisits', 'Page Views Per Visit'], how='all', inplace = True)"
   ]
  },
  {
   "cell_type": "code",
   "execution_count": 164,
   "id": "7fcf37db",
   "metadata": {},
   "outputs": [
    {
     "name": "stdout",
     "output_type": "stream",
     "text": [
      "<class 'pandas.core.frame.DataFrame'>\n",
      "Int64Index: 9103 entries, 0 to 9239\n",
      "Data columns (total 9 columns):\n",
      " #   Column                       Non-Null Count  Dtype  \n",
      "---  ------                       --------------  -----  \n",
      " 0   ID                           9103 non-null   int64  \n",
      " 1   Purchased                    9103 non-null   object \n",
      " 2   Do Not Email                 9103 non-null   object \n",
      " 3   Do Not Call                  9103 non-null   object \n",
      " 4   TotalVisits                  9103 non-null   float64\n",
      " 5   Total Time Spent on Website  9103 non-null   int64  \n",
      " 6   Page Views Per Visit         9103 non-null   float64\n",
      " 7   Specialization               5799 non-null   object \n",
      " 8   Origin                       9103 non-null   object \n",
      "dtypes: float64(2), int64(2), object(5)\n",
      "memory usage: 711.2+ KB\n"
     ]
    },
    {
     "data": {
      "text/plain": [
       "ID                                0\n",
       "Purchased                         0\n",
       "Do Not Email                      0\n",
       "Do Not Call                       0\n",
       "TotalVisits                       0\n",
       "Total Time Spent on Website       0\n",
       "Page Views Per Visit              0\n",
       "Specialization                 3304\n",
       "Origin                            0\n",
       "dtype: int64"
      ]
     },
     "execution_count": 164,
     "metadata": {},
     "output_type": "execute_result"
    }
   ],
   "source": [
    "data2.info()\n",
    "data2.isnull().sum()\n",
    "#data2.dropna(subset = ['TotalVisits', 'Page Views Per Visit'])\n",
    "#data2.head(5)\n",
    "#data3= data2.fillna('N/A')"
   ]
  },
  {
   "cell_type": "code",
   "execution_count": 165,
   "id": "ac7ff0a2",
   "metadata": {},
   "outputs": [],
   "source": [
    "x=data2.drop(['Origin'], axis=1)\n",
    "y=data2.Origin"
   ]
  },
  {
   "cell_type": "code",
   "execution_count": 166,
   "id": "0b7e680b",
   "metadata": {},
   "outputs": [
    {
     "data": {
      "text/html": [
       "<div>\n",
       "<style scoped>\n",
       "    .dataframe tbody tr th:only-of-type {\n",
       "        vertical-align: middle;\n",
       "    }\n",
       "\n",
       "    .dataframe tbody tr th {\n",
       "        vertical-align: top;\n",
       "    }\n",
       "\n",
       "    .dataframe thead th {\n",
       "        text-align: right;\n",
       "    }\n",
       "</style>\n",
       "<table border=\"1\" class=\"dataframe\">\n",
       "  <thead>\n",
       "    <tr style=\"text-align: right;\">\n",
       "      <th></th>\n",
       "      <th>ID</th>\n",
       "      <th>Purchased</th>\n",
       "      <th>Do Not Email</th>\n",
       "      <th>Do Not Call</th>\n",
       "      <th>TotalVisits</th>\n",
       "      <th>Total Time Spent on Website</th>\n",
       "      <th>Page Views Per Visit</th>\n",
       "      <th>Specialization</th>\n",
       "    </tr>\n",
       "  </thead>\n",
       "  <tbody>\n",
       "    <tr>\n",
       "      <th>0</th>\n",
       "      <td>1</td>\n",
       "      <td>0</td>\n",
       "      <td>0</td>\n",
       "      <td>0</td>\n",
       "      <td>0.0</td>\n",
       "      <td>0</td>\n",
       "      <td>0.00</td>\n",
       "      <td>18</td>\n",
       "    </tr>\n",
       "    <tr>\n",
       "      <th>1</th>\n",
       "      <td>2</td>\n",
       "      <td>0</td>\n",
       "      <td>0</td>\n",
       "      <td>0</td>\n",
       "      <td>5.0</td>\n",
       "      <td>674</td>\n",
       "      <td>2.50</td>\n",
       "      <td>18</td>\n",
       "    </tr>\n",
       "    <tr>\n",
       "      <th>2</th>\n",
       "      <td>3</td>\n",
       "      <td>1</td>\n",
       "      <td>0</td>\n",
       "      <td>0</td>\n",
       "      <td>2.0</td>\n",
       "      <td>1532</td>\n",
       "      <td>2.00</td>\n",
       "      <td>1</td>\n",
       "    </tr>\n",
       "    <tr>\n",
       "      <th>3</th>\n",
       "      <td>4</td>\n",
       "      <td>0</td>\n",
       "      <td>0</td>\n",
       "      <td>0</td>\n",
       "      <td>1.0</td>\n",
       "      <td>305</td>\n",
       "      <td>1.00</td>\n",
       "      <td>11</td>\n",
       "    </tr>\n",
       "    <tr>\n",
       "      <th>4</th>\n",
       "      <td>5</td>\n",
       "      <td>1</td>\n",
       "      <td>0</td>\n",
       "      <td>0</td>\n",
       "      <td>2.0</td>\n",
       "      <td>1428</td>\n",
       "      <td>1.00</td>\n",
       "      <td>18</td>\n",
       "    </tr>\n",
       "    <tr>\n",
       "      <th>...</th>\n",
       "      <td>...</td>\n",
       "      <td>...</td>\n",
       "      <td>...</td>\n",
       "      <td>...</td>\n",
       "      <td>...</td>\n",
       "      <td>...</td>\n",
       "      <td>...</td>\n",
       "      <td>...</td>\n",
       "    </tr>\n",
       "    <tr>\n",
       "      <th>9235</th>\n",
       "      <td>9236</td>\n",
       "      <td>1</td>\n",
       "      <td>1</td>\n",
       "      <td>0</td>\n",
       "      <td>8.0</td>\n",
       "      <td>1845</td>\n",
       "      <td>2.67</td>\n",
       "      <td>8</td>\n",
       "    </tr>\n",
       "    <tr>\n",
       "      <th>9236</th>\n",
       "      <td>9237</td>\n",
       "      <td>0</td>\n",
       "      <td>0</td>\n",
       "      <td>0</td>\n",
       "      <td>2.0</td>\n",
       "      <td>238</td>\n",
       "      <td>2.00</td>\n",
       "      <td>11</td>\n",
       "    </tr>\n",
       "    <tr>\n",
       "      <th>9237</th>\n",
       "      <td>9238</td>\n",
       "      <td>0</td>\n",
       "      <td>1</td>\n",
       "      <td>0</td>\n",
       "      <td>2.0</td>\n",
       "      <td>199</td>\n",
       "      <td>2.00</td>\n",
       "      <td>1</td>\n",
       "    </tr>\n",
       "    <tr>\n",
       "      <th>9238</th>\n",
       "      <td>9239</td>\n",
       "      <td>1</td>\n",
       "      <td>0</td>\n",
       "      <td>0</td>\n",
       "      <td>3.0</td>\n",
       "      <td>499</td>\n",
       "      <td>3.00</td>\n",
       "      <td>7</td>\n",
       "    </tr>\n",
       "    <tr>\n",
       "      <th>9239</th>\n",
       "      <td>9240</td>\n",
       "      <td>1</td>\n",
       "      <td>0</td>\n",
       "      <td>0</td>\n",
       "      <td>6.0</td>\n",
       "      <td>1279</td>\n",
       "      <td>3.00</td>\n",
       "      <td>16</td>\n",
       "    </tr>\n",
       "  </tbody>\n",
       "</table>\n",
       "<p>9103 rows × 8 columns</p>\n",
       "</div>"
      ],
      "text/plain": [
       "        ID  Purchased  Do Not Email  Do Not Call  TotalVisits  \\\n",
       "0        1          0             0            0          0.0   \n",
       "1        2          0             0            0          5.0   \n",
       "2        3          1             0            0          2.0   \n",
       "3        4          0             0            0          1.0   \n",
       "4        5          1             0            0          2.0   \n",
       "...    ...        ...           ...          ...          ...   \n",
       "9235  9236          1             1            0          8.0   \n",
       "9236  9237          0             0            0          2.0   \n",
       "9237  9238          0             1            0          2.0   \n",
       "9238  9239          1             0            0          3.0   \n",
       "9239  9240          1             0            0          6.0   \n",
       "\n",
       "      Total Time Spent on Website  Page Views Per Visit  Specialization  \n",
       "0                               0                  0.00              18  \n",
       "1                             674                  2.50              18  \n",
       "2                            1532                  2.00               1  \n",
       "3                             305                  1.00              11  \n",
       "4                            1428                  1.00              18  \n",
       "...                           ...                   ...             ...  \n",
       "9235                         1845                  2.67               8  \n",
       "9236                          238                  2.00              11  \n",
       "9237                          199                  2.00               1  \n",
       "9238                          499                  3.00               7  \n",
       "9239                         1279                  3.00              16  \n",
       "\n",
       "[9103 rows x 8 columns]"
      ]
     },
     "execution_count": 166,
     "metadata": {},
     "output_type": "execute_result"
    }
   ],
   "source": [
    "from sklearn.preprocessing import LabelEncoder\n",
    "\n",
    "\n",
    "X1 = x.select_dtypes('O')\n",
    "\n",
    "for col in X1.columns:\n",
    "    lb = LabelEncoder()\n",
    "    x[col] = lb.fit_transform(X1[col].values)\n",
    "x"
   ]
  },
  {
   "cell_type": "code",
   "execution_count": 167,
   "id": "83a2938d",
   "metadata": {},
   "outputs": [],
   "source": [
    "from sklearn.model_selection import train_test_split\n",
    "X_train, X_test, y_train, y_test = train_test_split(x,y)"
   ]
  },
  {
   "cell_type": "code",
   "execution_count": 168,
   "id": "89301d96",
   "metadata": {},
   "outputs": [
    {
     "data": {
      "text/plain": [
       "array(['API', 'Landing Page Submission', 'Lead Add Form', 'Lead Import'],\n",
       "      dtype=object)"
      ]
     },
     "execution_count": 168,
     "metadata": {},
     "output_type": "execute_result"
    }
   ],
   "source": [
    "y_test.unique()"
   ]
  },
  {
   "cell_type": "code",
   "execution_count": 169,
   "id": "e1c7fa96",
   "metadata": {},
   "outputs": [
    {
     "name": "stdout",
     "output_type": "stream",
     "text": [
      "{'n_neighbors': 9, 'metric': 'manhattan'}\n"
     ]
    },
    {
     "data": {
      "text/plain": [
       "(0.7577266735022704, 0.6823374340949033)"
      ]
     },
     "execution_count": 169,
     "metadata": {},
     "output_type": "execute_result"
    }
   ],
   "source": [
    "\n",
    "# model1 = KNeighborsClassifier(n_neighbors=9, metric='manhattan')\n",
    "\n",
    "from sklearn.model_selection import GridSearchCV, RandomizedSearchCV # for hyperparameter tuning\n",
    "from sklearn.neighbors import KNeighborsClassifier\n",
    "\n",
    "param_dist = {'n_neighbors':[8,5,4,10,9],'metric':['manhattan','euclidean']}\n",
    "model1 = RandomizedSearchCV(KNeighborsClassifier(), param_distributions=param_dist, n_iter=10, cv=5)\n",
    "\n",
    "\n",
    "model1.fit(X_train, y_train)\n",
    "print(model1.best_params_)\n",
    "model1.score(X_train, y_train),model1.score(X_test, y_test)"
   ]
  },
  {
   "cell_type": "code",
   "execution_count": 170,
   "id": "892c499b",
   "metadata": {},
   "outputs": [
    {
     "data": {
      "text/plain": [
       "(0.6304379668961476, 0.6256590509666081)"
      ]
     },
     "execution_count": 170,
     "metadata": {},
     "output_type": "execute_result"
    }
   ],
   "source": [
    "from sklearn.svm import SVC\n",
    "model2 = SVC(C = 8, kernel = 'rbf')\n",
    "model2.fit(X_train, y_train)\n",
    "model2.score(X_train, y_train),model2.score(X_test, y_test)"
   ]
  },
  {
   "cell_type": "code",
   "execution_count": 171,
   "id": "f2de4ed0",
   "metadata": {},
   "outputs": [],
   "source": [
    "\n",
    "from sklearn.tree import DecisionTreeClassifier\n",
    "clf = DecisionTreeClassifier()\n",
    "X_train, X_test, y_train, y_test = train_test_split(x,y, test_size = 0.2)"
   ]
  },
  {
   "cell_type": "code",
   "execution_count": 172,
   "id": "06fa02a7",
   "metadata": {},
   "outputs": [
    {
     "name": "stdout",
     "output_type": "stream",
     "text": [
      "0.8467453996154902 0.828116419549698\n"
     ]
    }
   ],
   "source": [
    "model4 = DecisionTreeClassifier(criterion='gini', max_depth=1,max_leaf_nodes=2)\n",
    "model4.fit(X_train,y_train)\n",
    "print(model4.score(X_train, y_train),model4.score(X_test, y_test))\n"
   ]
  },
  {
   "cell_type": "code",
   "execution_count": null,
   "id": "c80074d3",
   "metadata": {},
   "outputs": [],
   "source": [
    "a=4\n",
    "b=3\n",
    "print(a,b)\n",
    "a,b=b,a\n",
    "print(a,b)"
   ]
  },
  {
   "cell_type": "code",
   "execution_count": null,
   "id": "57b459ba",
   "metadata": {},
   "outputs": [],
   "source": []
  }
 ],
 "metadata": {
  "kernelspec": {
   "display_name": "Python 3 (ipykernel)",
   "language": "python",
   "name": "python3"
  },
  "language_info": {
   "codemirror_mode": {
    "name": "ipython",
    "version": 3
   },
   "file_extension": ".py",
   "mimetype": "text/x-python",
   "name": "python",
   "nbconvert_exporter": "python",
   "pygments_lexer": "ipython3",
   "version": "3.9.12"
  }
 },
 "nbformat": 4,
 "nbformat_minor": 5
}
